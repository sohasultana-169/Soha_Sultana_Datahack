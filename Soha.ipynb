{
 "cells": [
  {
   "cell_type": "code",
   "execution_count": 2,
   "id": "6c18a5fa-2b07-4c1a-8798-76e8483a78d4",
   "metadata": {},
   "outputs": [],
   "source": [
    "import pandas as pd\n",
    "from sklearn.model_selection import train_test_split\n",
    "from sklearn.preprocessing import StandardScaler, LabelEncoder\n",
    "from sklearn.impute import SimpleImputer\n",
    "from sklearn.svm import SVC\n",
    "from sklearn.linear_model import LogisticRegression\n",
    "from sklearn.naive_bayes import GaussianNB\n",
    "from sklearn.metrics import roc_auc_score\n"
   ]
  },
  {
   "cell_type": "code",
   "execution_count": 4,
   "id": "9e561f86-42d0-44ea-8d3b-34ede8811a19",
   "metadata": {},
   "outputs": [],
   "source": [
    "train_features = pd.read_csv(\"Downloads/dataset and all/training_set_features.csv\")\n",
    "train_labels = pd.read_csv(\"Downloads/dataset and all/training_set_labels.csv\")\n",
    "test_features = pd.read_csv(\"Downloads/dataset and all/test_set_features.csv\")\n"
   ]
  },
  {
   "cell_type": "code",
   "execution_count": 6,
   "id": "a7b279cd-a9a5-4f66-8fa1-3af6738c73dd",
   "metadata": {},
   "outputs": [],
   "source": [
    "train_df = pd.merge(train_features, train_labels, on='respondent_id')\n"
   ]
  },
  {
   "cell_type": "code",
   "execution_count": 8,
   "id": "27da73a7-8189-404e-ad9e-66b5f18880f3",
   "metadata": {},
   "outputs": [],
   "source": [
    "y_xyz = train_df['xyz_vaccine']\n",
    "y_seasonal = train_df['seasonal_vaccine']\n"
   ]
  },
  {
   "cell_type": "code",
   "execution_count": 10,
   "id": "17bb3b39-4bd7-4a52-b8c1-fa311282d56b",
   "metadata": {},
   "outputs": [],
   "source": [
    "train_df.drop(columns=['respondent_id'], inplace=True)\n",
    "test_ids = test_features['respondent_id']\n",
    "test_features.drop(columns=['respondent_id'], inplace=True)\n"
   ]
  },
  {
   "cell_type": "code",
   "execution_count": 12,
   "id": "e3d6adc2-5ba5-4b07-91f7-faa2d0a492a6",
   "metadata": {},
   "outputs": [],
   "source": [
    "cat_cols = train_df.select_dtypes(include='object').columns.tolist()\n",
    "num_cols = train_df.select_dtypes(exclude='object').columns.tolist()\n",
    "num_cols.remove('xyz_vaccine')\n",
    "num_cols.remove('seasonal_vaccine')\n"
   ]
  },
  {
   "cell_type": "code",
   "execution_count": 14,
   "id": "2c4061dd-9bd4-4e6f-9c9f-02542a0efe35",
   "metadata": {},
   "outputs": [],
   "source": [
    "num_imputer = SimpleImputer(strategy='mean')\n",
    "cat_imputer = SimpleImputer(strategy='most_frequent')\n",
    "\n",
    "train_df[num_cols] = num_imputer.fit_transform(train_df[num_cols])\n",
    "train_df[cat_cols] = cat_imputer.fit_transform(train_df[cat_cols])\n",
    "test_features[num_cols] = num_imputer.transform(test_features[num_cols])\n",
    "test_features[cat_cols] = cat_imputer.transform(test_features[cat_cols])\n"
   ]
  },
  {
   "cell_type": "code",
   "execution_count": 16,
   "id": "fddafbba-1dc3-4350-a25f-d2b8804ad97a",
   "metadata": {},
   "outputs": [],
   "source": [
    "le = LabelEncoder()\n",
    "for col in cat_cols:\n",
    "    train_df[col] = le.fit_transform(train_df[col])\n",
    "    test_features[col] = le.transform(test_features[col])\n"
   ]
  },
  {
   "cell_type": "code",
   "execution_count": 18,
   "id": "db043ef1-b99f-407b-b0b6-f0ebe66203d0",
   "metadata": {},
   "outputs": [],
   "source": [
    "X = train_df.drop(columns=['xyz_vaccine', 'seasonal_vaccine'])\n",
    "X_test = test_features\n"
   ]
  },
  {
   "cell_type": "code",
   "execution_count": 20,
   "id": "d7e2d44e-8e31-4676-9b88-bc157357d446",
   "metadata": {},
   "outputs": [],
   "source": [
    "scaler = StandardScaler()\n",
    "X_scaled = scaler.fit_transform(X)\n",
    "X_test_scaled = scaler.transform(X_test)\n"
   ]
  },
  {
   "cell_type": "code",
   "execution_count": 22,
   "id": "4850fb6f-6bf5-4a09-b6fb-e095fe643d7b",
   "metadata": {},
   "outputs": [],
   "source": [
    "X_train, X_val, y_train_xyz, y_val_xyz = train_test_split(X_scaled, y_xyz, test_size=0.2, random_state=42)\n",
    "_, _, y_train_seasonal, y_val_seasonal = train_test_split(X_scaled, y_seasonal, test_size=0.2, random_state=42)\n"
   ]
  },
  {
   "cell_type": "code",
   "execution_count": 24,
   "id": "df013971-8239-4173-a40d-830385cf9acb",
   "metadata": {},
   "outputs": [],
   "source": [
    "def train_and_evaluate(model, X_train, y_train, X_val, y_val):\n",
    "    model.fit(X_train, y_train)\n",
    "    y_pred = model.predict_proba(X_val)[:, 1]\n",
    "    auc = roc_auc_score(y_val, y_pred)\n",
    "    return auc\n"
   ]
  },
  {
   "cell_type": "code",
   "execution_count": 26,
   "id": "26da16da-0a76-4765-b9a7-399c6cd28438",
   "metadata": {},
   "outputs": [
    {
     "name": "stdout",
     "output_type": "stream",
     "text": [
      "Training SVM...\n",
      "SVM - ROC AUC (xyz_vaccine): 0.8361\n",
      "SVM - ROC AUC (seasonal_vaccine): 0.8547\n",
      "\n",
      "Training Logistic Regression...\n",
      "Logistic Regression - ROC AUC (xyz_vaccine): 0.8312\n",
      "Logistic Regression - ROC AUC (seasonal_vaccine): 0.8509\n",
      "\n",
      "Training Naive Bayes...\n",
      "Naive Bayes - ROC AUC (xyz_vaccine): 0.7860\n",
      "Naive Bayes - ROC AUC (seasonal_vaccine): 0.8056\n",
      "\n"
     ]
    }
   ],
   "source": [
    "models = {\n",
    "    'SVM': SVC(probability=True, random_state=42),\n",
    "    'Logistic Regression': LogisticRegression(max_iter=1000, random_state=42),\n",
    "    'Naive Bayes': GaussianNB()\n",
    "}\n",
    "\n",
    "results = {}\n",
    "for name, model in models.items():\n",
    "    print(f'Training {name}...')\n",
    "    auc_xyz = train_and_evaluate(model, X_train, y_train_xyz, X_val, y_val_xyz)\n",
    "    auc_seasonal = train_and_evaluate(model, X_train, y_train_seasonal, X_val, y_val_seasonal)\n",
    "    results[name] = {\n",
    "        'auc_xyz': auc_xyz,\n",
    "        'auc_seasonal': auc_seasonal\n",
    "    }\n",
    "    print(f'{name} - ROC AUC (xyz_vaccine): {auc_xyz:.4f}')\n",
    "    print(f'{name} - ROC AUC (seasonal_vaccine): {auc_seasonal:.4f}')\n",
    "    print('')\n"
   ]
  },
  {
   "cell_type": "code",
   "execution_count": 28,
   "id": "deb7777e-8e3a-49eb-8b1e-889dbfc5a2f9",
   "metadata": {},
   "outputs": [],
   "source": [
    "best_model_name = max(results, key=lambda k: results[k]['auc_xyz'] + results[k]['auc_seasonal'])\n",
    "best_model = models[best_model_name]\n"
   ]
  },
  {
   "cell_type": "code",
   "execution_count": 37,
   "id": "a85c5c5f-4b6d-4e1d-978a-1a779a980acf",
   "metadata": {},
   "outputs": [],
   "source": [
    "best_model.fit(X_scaled, y_xyz)\n",
    "y_pred_xyz = best_model.predict_proba(X_test_scaled)[:, 1]\n",
    "best_model.fit(X_scaled, y_seasonal)\n",
    "y_pred_seasonal = best_model.predict_proba(X_test_scaled)[:, 1]\n"
   ]
  },
  {
   "cell_type": "code",
   "execution_count": 33,
   "id": "d1898604-8bb2-4ade-8de5-c69f85b68383",
   "metadata": {},
   "outputs": [],
   "source": [
    "submission = pd.DataFrame({\n",
    "    'respondent_id': test_ids,\n",
    "    'xyz_vaccine': y_pred_xyz,\n",
    "    'seasonal_vaccine': y_pred_seasonal\n",
    "})\n",
    "\n",
    "submission.to_csv('Downloads/dataset and all/submission_format.csv', index=False)\n"
   ]
  },
  {
   "cell_type": "code",
   "execution_count": null,
   "id": "9ad8566d-a5b8-457c-9673-1eeed3d1f2ed",
   "metadata": {},
   "outputs": [],
   "source": []
  },
  {
   "cell_type": "code",
   "execution_count": null,
   "id": "a573a477-bc39-408b-868e-d53d24ab0a63",
   "metadata": {},
   "outputs": [],
   "source": []
  },
  {
   "cell_type": "code",
   "execution_count": null,
   "id": "e84a58d6-9c31-4af7-9c73-7a588a62299f",
   "metadata": {},
   "outputs": [],
   "source": []
  },
  {
   "cell_type": "code",
   "execution_count": null,
   "id": "c813ed46-c3cf-42ad-8a1b-a8d814a50aa3",
   "metadata": {},
   "outputs": [],
   "source": []
  }
 ],
 "metadata": {
  "kernelspec": {
   "display_name": "Python 3 (ipykernel)",
   "language": "python",
   "name": "python3"
  },
  "language_info": {
   "codemirror_mode": {
    "name": "ipython",
    "version": 3
   },
   "file_extension": ".py",
   "mimetype": "text/x-python",
   "name": "python",
   "nbconvert_exporter": "python",
   "pygments_lexer": "ipython3",
   "version": "3.11.7"
  }
 },
 "nbformat": 4,
 "nbformat_minor": 5
}
